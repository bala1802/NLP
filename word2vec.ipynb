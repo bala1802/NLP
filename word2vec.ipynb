{
  "nbformat": 4,
  "nbformat_minor": 0,
  "metadata": {
    "colab": {
      "name": "word2vec.ipynb",
      "provenance": [],
      "collapsed_sections": []
    },
    "kernelspec": {
      "name": "python3",
      "display_name": "Python 3"
    }
  },
  "cells": [
    {
      "cell_type": "code",
      "metadata": {
        "id": "1GAqWAzQKhag",
        "colab_type": "code",
        "colab": {}
      },
      "source": [
        "import nltk\n",
        "# nltk.download('all')\n",
        "from gensim.models import Word2Vec\n",
        "from nltk.corpus import stopwords\n",
        "import re"
      ],
      "execution_count": 0,
      "outputs": []
    },
    {
      "cell_type": "code",
      "metadata": {
        "id": "zIucc6ejK-MW",
        "colab_type": "code",
        "colab": {}
      },
      "source": [
        "def getParagraph():\n",
        "  paragraph = \"\"\"I have three visions for India. In 3000 years of our history, people from all over \n",
        "               the world have come and invaded us, captured our lands, conquered our minds. \n",
        "               From Alexander onwards, the Greeks, the Turks, the Moguls, the Portuguese, the British,\n",
        "               the French, the Dutch, all of them came and looted us, took over what was ours. \n",
        "               Yet we have not done this to any other nation. We have not conquered anyone. \n",
        "               We have not grabbed their land, their culture, \n",
        "               their history and tried to enforce our way of life on them. \n",
        "               Why? Because we respect the freedom of others.That is why my \n",
        "               first vision is that of freedom. I believe that India got its first vision of \n",
        "               this in 1857, when we started the War of Independence. It is this freedom that\n",
        "               we must protect and nurture and build on. If we are not free, no one will respect us.\n",
        "               My second vision for India’s development. For fifty years we have been a developing nation.\n",
        "               It is time we see ourselves as a developed nation. We are among the top 5 nations of the world\n",
        "               in terms of GDP. We have a 10 percent growth rate in most areas. Our poverty levels are falling.\n",
        "               Our achievements are being globally recognised today. Yet we lack the self-confidence to\n",
        "               see ourselves as a developed nation, self-reliant and self-assured. Isn’t this incorrect?\n",
        "               I have a third vision. India must stand up to the world. Because I believe that unless India \n",
        "               stands up to the world, no one will respect us. Only strength respects strength. We must be \n",
        "               strong not only as a military power but also as an economic power. Both must go hand-in-hand. \n",
        "               My good fortune was to have worked with three great minds. Dr. Vikram Sarabhai of the Dept. of \n",
        "               space, Professor Satish Dhawan, who succeeded him and Dr. Brahm Prakash, father of nuclear material.\n",
        "               I was lucky to have worked with all three of them closely and consider this the great opportunity of my life. \n",
        "               I see four milestones in my career\"\"\"\n",
        "  return paragraph"
      ],
      "execution_count": 0,
      "outputs": []
    },
    {
      "cell_type": "code",
      "metadata": {
        "id": "7PxdzlheLtqT",
        "colab_type": "code",
        "colab": {}
      },
      "source": [
        "def preprocessTheData(paragraph):\n",
        "  text = re.sub(r'\\[[0-9]*\\]',' ',paragraph)\n",
        "  text = re.sub(r'\\s+',' ',text)\n",
        "  text = text.lower()\n",
        "  text = re.sub(r'\\d',' ',text)\n",
        "  text = re.sub(r'\\s+',' ',text)\n",
        "  return text"
      ],
      "execution_count": 0,
      "outputs": []
    },
    {
      "cell_type": "code",
      "metadata": {
        "id": "pvaBd__fL7yl",
        "colab_type": "code",
        "colab": {}
      },
      "source": [
        "def preprareDataSet(text):\n",
        "  sentences = nltk.sent_tokenize(text)\n",
        "  sentences = [nltk.word_tokenize(sentence) for sentence in sentences]\n",
        "  for i in range(len(sentences)):\n",
        "    sentences[i] = [word for word in sentences[i] if word not in stopwords.words('english')]\n",
        "  return sentences"
      ],
      "execution_count": 0,
      "outputs": []
    },
    {
      "cell_type": "code",
      "metadata": {
        "id": "yQ8PCfFPMKnz",
        "colab_type": "code",
        "colab": {}
      },
      "source": [
        "def trainTheWord2VecModel(sentences):\n",
        "  model = Word2Vec(sentences, min_count=1)\n",
        "  words = model.wv.vocab\n",
        "  return model, words"
      ],
      "execution_count": 0,
      "outputs": []
    },
    {
      "cell_type": "code",
      "metadata": {
        "id": "I0OZ-pfaMlG0",
        "colab_type": "code",
        "colab": {}
      },
      "source": [
        "def findWordVectors(model, word):\n",
        "  vector = model.wv[word.lower()]\n",
        "  return vector"
      ],
      "execution_count": 0,
      "outputs": []
    },
    {
      "cell_type": "code",
      "metadata": {
        "id": "OiTKrGO3NDKd",
        "colab_type": "code",
        "colab": {}
      },
      "source": [
        "def findSimilarWords(model, word):\n",
        "  similarWords = model.wv.most_similar(word.lower())\n",
        "  return similarWords"
      ],
      "execution_count": 0,
      "outputs": []
    },
    {
      "cell_type": "code",
      "metadata": {
        "id": "ex8y3ndcNnAK",
        "colab_type": "code",
        "colab": {}
      },
      "source": [
        "def main():\n",
        "  paragprah = getParagraph()\n",
        "  text = preprocessTheData(paragprah)\n",
        "  sentences = preprareDataSet(text) #extracting words from sentences\n",
        "  model, words = trainTheWord2VecModel(sentences)\n",
        "  vectors = findWordVectors(model, 'war')\n",
        "  # print(vectors) #Displays a 100 dimension vector\n",
        "  similarWords = findSimilarWords(model, 'war')\n",
        "  # print(similarWords)\n",
        "  return"
      ],
      "execution_count": 0,
      "outputs": []
    },
    {
      "cell_type": "code",
      "metadata": {
        "id": "PmLMofwKNigS",
        "colab_type": "code",
        "outputId": "a73dd1c1-e9e7-4413-f8a7-7265f710ece2",
        "colab": {
          "base_uri": "https://localhost:8080/",
          "height": 71
        }
      },
      "source": [
        "if __name__==\"__main__\": \n",
        "    main()"
      ],
      "execution_count": 0,
      "outputs": [
        {
          "output_type": "stream",
          "text": [
            "/usr/local/lib/python3.6/dist-packages/gensim/matutils.py:737: FutureWarning: Conversion of the second argument of issubdtype from `int` to `np.signedinteger` is deprecated. In future, it will be treated as `np.int64 == np.dtype(int).type`.\n",
            "  if np.issubdtype(vec.dtype, np.int):\n"
          ],
          "name": "stderr"
        }
      ]
    },
    {
      "cell_type": "code",
      "metadata": {
        "id": "qlqIgD_sOOPe",
        "colab_type": "code",
        "colab": {}
      },
      "source": [
        ""
      ],
      "execution_count": 0,
      "outputs": []
    }
  ]
}