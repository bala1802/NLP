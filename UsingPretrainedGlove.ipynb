{
  "nbformat": 4,
  "nbformat_minor": 0,
  "metadata": {
    "colab": {
      "name": "UsingPretrainedGlove.ipynb",
      "provenance": [],
      "collapsed_sections": []
    },
    "kernelspec": {
      "name": "python3",
      "display_name": "Python 3"
    }
  },
  "cells": [
    {
      "cell_type": "code",
      "metadata": {
        "id": "Imnev69E31XT",
        "colab_type": "code",
        "colab": {}
      },
      "source": [
        "pip install numpy\n",
        "pip install scipy\n",
        "pip install matplotlib\n",
        "pip install sklearn"
      ],
      "execution_count": 0,
      "outputs": []
    },
    {
      "cell_type": "code",
      "metadata": {
        "id": "VVJ1JGIb4OWp",
        "colab_type": "code",
        "colab": {}
      },
      "source": [
        "import numpy as np\n",
        "from scipy import spatial\n",
        "import matplotlib.pyplot as plt\n",
        "from sklearn.manifold import TSNE"
      ],
      "execution_count": 0,
      "outputs": []
    },
    {
      "cell_type": "code",
      "metadata": {
        "id": "hJT1i9ol4zp1",
        "colab_type": "code",
        "colab": {}
      },
      "source": [
        "def extractEmbeddingVectors():\n",
        "  embeddings_dict = {}\n",
        "  with open(\"glove.6B.50d.txt\", 'r') as f: #Note download glove.6B.50d.txt from \"http://nlp.stanford.edu/data/glove.6B.zip\"\n",
        "    for line in f:\n",
        "        values = line.split()\n",
        "        word = values[0]\n",
        "        vector = np.asarray(values[1:], \"float32\")\n",
        "        embeddings_dict[word] = vector\n",
        "    return embeddings_dict"
      ],
      "execution_count": 0,
      "outputs": []
    },
    {
      "cell_type": "code",
      "metadata": {
        "id": "7-tqG7EK42ij",
        "colab_type": "code",
        "colab": {}
      },
      "source": [
        "def find_closest_embeddings(embedding, embeddings_dict):\n",
        "    return sorted(embeddings_dict.keys(), key=lambda word: spatial.distance.euclidean(embeddings_dict[word], embedding))"
      ],
      "execution_count": 0,
      "outputs": []
    },
    {
      "cell_type": "code",
      "metadata": {
        "id": "TZObR78_Hs5R",
        "colab_type": "code",
        "colab": {}
      },
      "source": [
        "def process():\n",
        "  embeddings_dict = extractEmbeddingVectors()\n",
        "  closestEmbeddings = find_closest_embeddings(embeddings_dict[\"king\"], embeddings_dict)\n",
        "  print(closestEmbeddings[2])\n",
        "  return"
      ],
      "execution_count": 0,
      "outputs": []
    },
    {
      "cell_type": "code",
      "metadata": {
        "id": "raIKkoOKEdeH",
        "colab_type": "code",
        "colab": {}
      },
      "source": [
        "def main():\n",
        "  process()\n",
        "  return"
      ],
      "execution_count": 0,
      "outputs": []
    },
    {
      "cell_type": "code",
      "metadata": {
        "id": "UWVGzkdiHnOz",
        "colab_type": "code",
        "colab": {}
      },
      "source": [
        "if __name__==\"__main__\": \n",
        "  main()"
      ],
      "execution_count": 0,
      "outputs": []
    }
  ]
}