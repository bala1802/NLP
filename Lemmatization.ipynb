{
  "nbformat": 4,
  "nbformat_minor": 0,
  "metadata": {
    "colab": {
      "name": "Lemmatization.ipynb",
      "provenance": [],
      "collapsed_sections": []
    },
    "kernelspec": {
      "name": "python3",
      "display_name": "Python 3"
    }
  },
  "cells": [
    {
      "cell_type": "code",
      "metadata": {
        "id": "KeZ-WHth0sy2",
        "colab_type": "code",
        "colab": {}
      },
      "source": [
        "import nltk\n",
        "nltk.download('all')\n",
        "from nltk.stem import WordNetLemmatizer\n",
        "from nltk.corpus import stopwords"
      ],
      "execution_count": 0,
      "outputs": []
    },
    {
      "cell_type": "code",
      "metadata": {
        "id": "CXMiO99o05B1",
        "colab_type": "code",
        "colab": {}
      },
      "source": [
        "def getContent():\n",
        "  paragraph = \"\"\"I have three visions for India. In 3000 years of our history, people from all over \n",
        "               the world have come and invaded us, captured our lands, conquered our minds. \n",
        "               From Alexander onwards, the Greeks, the Turks, the Moguls, the Portuguese, the British,\n",
        "               the French, the Dutch, all of them came and looted us, took over what was ours. \n",
        "               Yet we have not done this to any other nation. We have not conquered anyone. \n",
        "               We have not grabbed their land, their culture, \n",
        "               their history and tried to enforce our way of life on them. \n",
        "               Why? Because we respect the freedom of others.That is why my \n",
        "               first vision is that of freedom. I believe that India got its first vision of \n",
        "               this in 1857, when we started the War of Independence. It is this freedom that\n",
        "               we must protect and nurture and build on. If we are not free, no one will respect us.\n",
        "               My second vision for India’s development. For fifty years we have been a developing nation.\n",
        "               It is time we see ourselves as a developed nation. We are among the top 5 nations of the world\n",
        "               in terms of GDP. We have a 10 percent growth rate in most areas. Our poverty levels are falling.\n",
        "               Our achievements are being globally recognised today. Yet we lack the self-confidence to\n",
        "               see ourselves as a developed nation, self-reliant and self-assured. Isn’t this incorrect?\n",
        "               I have a third vision. India must stand up to the world. Because I believe that unless India \n",
        "               stands up to the world, no one will respect us. Only strength respects strength. We must be \n",
        "               strong not only as a military power but also as an economic power. Both must go hand-in-hand. \n",
        "               My good fortune was to have worked with three great minds. Dr. Vikram Sarabhai of the Dept. of \n",
        "               space, Professor Satish Dhawan, who succeeded him and Dr. Brahm Prakash, father of nuclear material.\n",
        "               I was lucky to have worked with all three of them closely and consider this the great opportunity of my life. \n",
        "               I see four milestones in my career\"\"\"\n",
        "  return paragraph"
      ],
      "execution_count": 0,
      "outputs": []
    },
    {
      "cell_type": "code",
      "metadata": {
        "id": "UWplGBNK09gF",
        "colab_type": "code",
        "colab": {}
      },
      "source": [
        "def doLematization(paragprah):\n",
        "  lemmatizer = WordNetLemmatizer()\n",
        "  sentences = nltk.sent_tokenize(paragprah)\n",
        "  for i in range(len(sentences)):\n",
        "    words = nltk.word_tokenize(sentences[i])\n",
        "    words = [lemmatizer.lemmatize(word) for word in words if word not in set(stopwords.words('english'))]\n",
        "    sentences[i] = ' '.join(words)\n",
        "  return sentences"
      ],
      "execution_count": 0,
      "outputs": []
    },
    {
      "cell_type": "code",
      "metadata": {
        "id": "PWR27hNf2jQh",
        "colab_type": "code",
        "colab": {}
      },
      "source": [
        "def main():\n",
        "  paragprah = getContent()\n",
        "  sentences = doLematization(paragprah)\n",
        "  for sentence in sentences:\n",
        "    print(sentence)"
      ],
      "execution_count": 0,
      "outputs": []
    },
    {
      "cell_type": "code",
      "metadata": {
        "id": "S-XYihho2iQ5",
        "colab_type": "code",
        "colab": {
          "base_uri": "https://localhost:8080/",
          "height": 538
        },
        "outputId": "3f5b3bd8-8122-4cbb-d599-53465a460efe"
      },
      "source": [
        "if __name__==\"__main__\": \n",
        "    main()"
      ],
      "execution_count": 16,
      "outputs": [
        {
          "output_type": "stream",
          "text": [
            "I three vision India .\n",
            "In 3000 year history , people world come invaded u , captured land , conquered mind .\n",
            "From Alexander onwards , Greeks , Turks , Moguls , Portuguese , British , French , Dutch , came looted u , took .\n",
            "Yet done nation .\n",
            "We conquered anyone .\n",
            "We grabbed land , culture , history tried enforce way life .\n",
            "Why ?\n",
            "Because respect freedom others.That first vision freedom .\n",
            "I believe India got first vision 1857 , started War Independence .\n",
            "It freedom must protect nurture build .\n",
            "If free , one respect u .\n",
            "My second vision India ’ development .\n",
            "For fifty year developing nation .\n",
            "It time see developed nation .\n",
            "We among top 5 nation world term GDP .\n",
            "We 10 percent growth rate area .\n",
            "Our poverty level falling .\n",
            "Our achievement globally recognised today .\n",
            "Yet lack self-confidence see developed nation , self-reliant self-assured .\n",
            "Isn ’ incorrect ?\n",
            "I third vision .\n",
            "India must stand world .\n",
            "Because I believe unless India stand world , one respect u .\n",
            "Only strength respect strength .\n",
            "We must strong military power also economic power .\n",
            "Both must go hand-in-hand .\n",
            "My good fortune worked three great mind .\n",
            "Dr. Vikram Sarabhai Dept .\n",
            "space , Professor Satish Dhawan , succeeded Dr. Brahm Prakash , father nuclear material .\n",
            "I lucky worked three closely consider great opportunity life .\n",
            "I see four milestone career\n"
          ],
          "name": "stdout"
        }
      ]
    },
    {
      "cell_type": "code",
      "metadata": {
        "id": "-vfrEw3a2eRC",
        "colab_type": "code",
        "colab": {}
      },
      "source": [
        ""
      ],
      "execution_count": 0,
      "outputs": []
    }
  ]
}