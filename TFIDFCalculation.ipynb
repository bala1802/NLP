{
  "nbformat": 4,
  "nbformat_minor": 0,
  "metadata": {
    "colab": {
      "name": "TFIDFCalculation.ipynb",
      "provenance": [],
      "collapsed_sections": []
    },
    "kernelspec": {
      "name": "python3",
      "display_name": "Python 3"
    }
  },
  "cells": [
    {
      "cell_type": "markdown",
      "metadata": {
        "id": "2OTKJDAYzwo0",
        "colab_type": "text"
      },
      "source": [
        "Term Frequency = \n",
        "\n",
        "(No.of repetition of a word in a sentence / No.of words in a sentence)"
      ]
    },
    {
      "cell_type": "markdown",
      "metadata": {
        "id": "XBJ-SRLW0EF9",
        "colab_type": "text"
      },
      "source": [
        "Inverse Document Frequency = \n",
        "\n",
        "log (No.Of Sentences / No.Of Sentences containing the specified word)"
      ]
    },
    {
      "cell_type": "code",
      "metadata": {
        "id": "42a1YIj1xz3k",
        "colab_type": "code",
        "colab": {}
      },
      "source": [
        "import pandas as pd"
      ],
      "execution_count": 0,
      "outputs": []
    },
    {
      "cell_type": "code",
      "metadata": {
        "id": "bHbeExm9yLyW",
        "colab_type": "code",
        "colab": {}
      },
      "source": [
        "documentA = 'the man went out for a walk'\n",
        "documentB = 'the children sat around the fire'"
      ],
      "execution_count": 0,
      "outputs": []
    },
    {
      "cell_type": "code",
      "metadata": {
        "id": "4kvlptKMzFdw",
        "colab_type": "code",
        "colab": {}
      },
      "source": [
        "bagOfWordsA = documentA.split(' ')\n",
        "bagOfWordsB = documentB.split(' ')"
      ],
      "execution_count": 0,
      "outputs": []
    },
    {
      "cell_type": "code",
      "metadata": {
        "id": "rbhReZ_4zOZb",
        "colab_type": "code",
        "colab": {}
      },
      "source": [
        "uniqueWords = set(bagOfWordsA).union(set(bagOfWordsB))"
      ],
      "execution_count": 0,
      "outputs": []
    },
    {
      "cell_type": "code",
      "metadata": {
        "id": "v74oKrXOzUli",
        "colab_type": "code",
        "outputId": "518da680-e460-4dd7-db20-554fc53d58ac",
        "colab": {
          "base_uri": "https://localhost:8080/",
          "height": 51
        }
      },
      "source": [
        "numOfWordsA = dict.fromkeys(uniqueWords, 0)\n",
        "for word in bagOfWordsA:\n",
        "    numOfWordsA[word] += 1\n",
        "print('Number of words in Document A : ', len(numOfWordsA))\n",
        "\n",
        "numOfWordsB = dict.fromkeys(uniqueWords, 0)\n",
        "for word in bagOfWordsB:\n",
        "    numOfWordsB[word] += 1\n",
        "print('Number of words in Document B : ', len(numOfWordsB))"
      ],
      "execution_count": 0,
      "outputs": [
        {
          "output_type": "stream",
          "text": [
            "Number of words in Document A :  11\n",
            "Number of words in Document B :  11\n"
          ],
          "name": "stdout"
        }
      ]
    },
    {
      "cell_type": "code",
      "metadata": {
        "id": "HP41T73lMVwO",
        "colab_type": "code",
        "outputId": "c8b1689f-75d4-4889-999c-c01d2fdc0e18",
        "colab": {
          "base_uri": "https://localhost:8080/",
          "height": 51
        }
      },
      "source": [
        "print('Bag Of Words : Document A : ', numOfWordsA)\n",
        "print('Bag Of Words : Document B : ', numOfWordsB)"
      ],
      "execution_count": 0,
      "outputs": [
        {
          "output_type": "stream",
          "text": [
            "Bag Of Words : Document A :  {'fire': 0, 'a': 1, 'the': 1, 'man': 1, 'out': 1, 'went': 1, 'children': 0, 'around': 0, 'sat': 0, 'walk': 1, 'for': 1}\n",
            "Bag Of Words : Document B :  {'fire': 1, 'a': 0, 'the': 2, 'man': 0, 'out': 0, 'went': 0, 'children': 1, 'around': 1, 'sat': 1, 'walk': 0, 'for': 0}\n"
          ],
          "name": "stdout"
        }
      ]
    },
    {
      "cell_type": "code",
      "metadata": {
        "id": "HCStxphM1WUN",
        "colab_type": "code",
        "colab": {}
      },
      "source": [
        "pip install -U nltk"
      ],
      "execution_count": 0,
      "outputs": []
    },
    {
      "cell_type": "code",
      "metadata": {
        "id": "QCAj1cp6zkGu",
        "colab_type": "code",
        "colab": {}
      },
      "source": [
        "import nltk\n",
        "nltk.download('stopwords')"
      ],
      "execution_count": 0,
      "outputs": []
    },
    {
      "cell_type": "code",
      "metadata": {
        "id": "fSnvqEfnz18o",
        "colab_type": "code",
        "colab": {}
      },
      "source": [
        "from nltk.corpus import stopwords\n",
        "stopwords.words('english')"
      ],
      "execution_count": 0,
      "outputs": []
    },
    {
      "cell_type": "code",
      "metadata": {
        "id": "VdhSk-Q716L-",
        "colab_type": "code",
        "colab": {}
      },
      "source": [
        "def computeTF(wordDict, bagOfWords):\n",
        "    #wordDict - Dictionary of words and it's frequency as value, of a document\n",
        "    #bagOfWords - List of words in a document\n",
        "    tfDict = {}\n",
        "    #tfDict - A placeholder for each word and it's corresponding Term Frequency value\n",
        "    bagOfWordsCount = len(bagOfWords)\n",
        "    #bagOfWords - Total number of words in the document\n",
        "    for word, count in wordDict.items():\n",
        "        #word - A word in the Dictionary\n",
        "        #count - Frequency of the corresponding word in the document\n",
        "        tfDict[word] = count / float(bagOfWordsCount)\n",
        "        #Term Frequency = No.Of repetition of a word in a document / Total No.Of words in the document\n",
        "    return tfDict"
      ],
      "execution_count": 0,
      "outputs": []
    },
    {
      "cell_type": "code",
      "metadata": {
        "id": "A6nYcKnl1-rc",
        "colab_type": "code",
        "colab": {}
      },
      "source": [
        "#numOfWordsA - Dictionary - containing the Word as a key and it's frequency as a value, of documentA\n",
        "#bagOfWordsA - Represents the total number of words in sentence A\n",
        "#tfA - Dictionary - containing word and it's term frequency as value, of documentA\n",
        "tfA = computeTF(numOfWordsA, bagOfWordsA)\n",
        "\n",
        "#numOfWordsB - Dictionary - containing the Word as a key and it's frequency as a value, of documentB\n",
        "#bagOfWordsB - Represents the total number of words in sentence B\n",
        "#tfB - Dictionary - containing word and it's term frequency as value, of documentB\n",
        "tfB = computeTF(numOfWordsB, bagOfWordsB)"
      ],
      "execution_count": 0,
      "outputs": []
    },
    {
      "cell_type": "code",
      "metadata": {
        "id": "CekcdhH0Gx2O",
        "colab_type": "code",
        "colab": {}
      },
      "source": [
        "def computeIDF(documents):\n",
        "    #documents - list of documents - documentA, documentB\n",
        "    import math\n",
        "    #N - total number of documents\n",
        "    N = len(documents)\n",
        "    idfDict = dict.fromkeys(documents[0].keys(), 0)\n",
        "    #idfDict - Dictionary contains keys from the document\n",
        "    for document in documents:\n",
        "        for word, val in document.items():\n",
        "            if val > 0:\n",
        "                #Filtering out the documents containing the specific word\n",
        "                idfDict[word] += 1\n",
        "    for word, val in idfDict.items():\n",
        "        idfDict[word] = math.log(N / float(val))\n",
        "    return idfDict"
      ],
      "execution_count": 0,
      "outputs": []
    },
    {
      "cell_type": "code",
      "metadata": {
        "id": "Nc5DSd94IWem",
        "colab_type": "code",
        "colab": {}
      },
      "source": [
        "documents = [numOfWordsA, numOfWordsB]\n",
        "idfDict = computeIDF(documents)"
      ],
      "execution_count": 0,
      "outputs": []
    },
    {
      "cell_type": "code",
      "metadata": {
        "id": "UbvYvCmgE_nG",
        "colab_type": "code",
        "colab": {}
      },
      "source": [
        "def computeTFIDF(tfBagOfWords, idfs):\n",
        "    #tfBagOfWords - Term Frequency of documentA\n",
        "    #idfs - Inverse Document Frequency\n",
        "    tfidf = {}\n",
        "    for word, val in tfBagOfWords.items():\n",
        "        #A word's TfIDf is calculated by multiplying the 'val' - Term frequency of the word and 'idfs[word]' - InverseDocFreq of same word\n",
        "        tfidf[word] = val * idfs[word]\n",
        "    return tfidf"
      ],
      "execution_count": 0,
      "outputs": []
    },
    {
      "cell_type": "code",
      "metadata": {
        "id": "kvSHEqljIshE",
        "colab_type": "code",
        "colab": {}
      },
      "source": [
        "idfs = computeIDF([numOfWordsA, numOfWordsB])"
      ],
      "execution_count": 0,
      "outputs": []
    },
    {
      "cell_type": "code",
      "metadata": {
        "id": "3ILEy2ufE52e",
        "colab_type": "code",
        "colab": {}
      },
      "source": [
        "tfidfA = computeTFIDF(tfA, idfs)\n",
        "tfidfB = computeTFIDF(tfB, idfs)"
      ],
      "execution_count": 0,
      "outputs": []
    },
    {
      "cell_type": "code",
      "metadata": {
        "id": "we2Hh1S1FIJI",
        "colab_type": "code",
        "colab": {}
      },
      "source": [
        "df = pd.DataFrame([tfidfA, tfidfB])"
      ],
      "execution_count": 0,
      "outputs": []
    },
    {
      "cell_type": "code",
      "metadata": {
        "id": "M_SjMXswFKXz",
        "colab_type": "code",
        "outputId": "38bb11d5-31a4-4e6e-dc6a-e8e2a2dca9c1",
        "colab": {
          "base_uri": "https://localhost:8080/",
          "height": 111
        }
      },
      "source": [
        "df"
      ],
      "execution_count": 0,
      "outputs": [
        {
          "output_type": "execute_result",
          "data": {
            "text/html": [
              "<div>\n",
              "<style scoped>\n",
              "    .dataframe tbody tr th:only-of-type {\n",
              "        vertical-align: middle;\n",
              "    }\n",
              "\n",
              "    .dataframe tbody tr th {\n",
              "        vertical-align: top;\n",
              "    }\n",
              "\n",
              "    .dataframe thead th {\n",
              "        text-align: right;\n",
              "    }\n",
              "</style>\n",
              "<table border=\"1\" class=\"dataframe\">\n",
              "  <thead>\n",
              "    <tr style=\"text-align: right;\">\n",
              "      <th></th>\n",
              "      <th>fire</th>\n",
              "      <th>a</th>\n",
              "      <th>the</th>\n",
              "      <th>man</th>\n",
              "      <th>out</th>\n",
              "      <th>went</th>\n",
              "      <th>children</th>\n",
              "      <th>around</th>\n",
              "      <th>sat</th>\n",
              "      <th>walk</th>\n",
              "      <th>for</th>\n",
              "    </tr>\n",
              "  </thead>\n",
              "  <tbody>\n",
              "    <tr>\n",
              "      <th>0</th>\n",
              "      <td>0.000000</td>\n",
              "      <td>0.099021</td>\n",
              "      <td>0.0</td>\n",
              "      <td>0.099021</td>\n",
              "      <td>0.099021</td>\n",
              "      <td>0.099021</td>\n",
              "      <td>0.000000</td>\n",
              "      <td>0.000000</td>\n",
              "      <td>0.000000</td>\n",
              "      <td>0.099021</td>\n",
              "      <td>0.099021</td>\n",
              "    </tr>\n",
              "    <tr>\n",
              "      <th>1</th>\n",
              "      <td>0.115525</td>\n",
              "      <td>0.000000</td>\n",
              "      <td>0.0</td>\n",
              "      <td>0.000000</td>\n",
              "      <td>0.000000</td>\n",
              "      <td>0.000000</td>\n",
              "      <td>0.115525</td>\n",
              "      <td>0.115525</td>\n",
              "      <td>0.115525</td>\n",
              "      <td>0.000000</td>\n",
              "      <td>0.000000</td>\n",
              "    </tr>\n",
              "  </tbody>\n",
              "</table>\n",
              "</div>"
            ],
            "text/plain": [
              "       fire         a  the       man  ...    around       sat      walk       for\n",
              "0  0.000000  0.099021  0.0  0.099021  ...  0.000000  0.000000  0.099021  0.099021\n",
              "1  0.115525  0.000000  0.0  0.000000  ...  0.115525  0.115525  0.000000  0.000000\n",
              "\n",
              "[2 rows x 11 columns]"
            ]
          },
          "metadata": {
            "tags": []
          },
          "execution_count": 20
        }
      ]
    },
    {
      "cell_type": "code",
      "metadata": {
        "id": "U5S6RR8SFLCW",
        "colab_type": "code",
        "colab": {}
      },
      "source": [
        ""
      ],
      "execution_count": 0,
      "outputs": []
    }
  ]
}