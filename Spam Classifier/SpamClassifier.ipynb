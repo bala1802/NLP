{
  "nbformat": 4,
  "nbformat_minor": 0,
  "metadata": {
    "colab": {
      "name": "SpamClassifier.ipynb",
      "provenance": [],
      "collapsed_sections": []
    },
    "kernelspec": {
      "name": "python3",
      "display_name": "Python 3"
    }
  },
  "cells": [
    {
      "cell_type": "code",
      "metadata": {
        "id": "cpx8pSe0ng6O",
        "colab_type": "code",
        "outputId": "3f645f3e-65e6-4ce0-e88f-0260cb4bbffe",
        "colab": {
          "base_uri": "https://localhost:8080/",
          "height": 34
        }
      },
      "source": [
        "from google.colab import drive\n",
        "drive.mount('/content/drive')"
      ],
      "execution_count": 38,
      "outputs": [
        {
          "output_type": "stream",
          "text": [
            "Drive already mounted at /content/drive; to attempt to forcibly remount, call drive.mount(\"/content/drive\", force_remount=True).\n"
          ],
          "name": "stdout"
        }
      ]
    },
    {
      "cell_type": "code",
      "metadata": {
        "id": "jUTDgVOlo-XD",
        "colab_type": "code",
        "outputId": "15148355-b68e-425c-b886-6f59e8fe5cde",
        "colab": {
          "base_uri": "https://localhost:8080/",
          "height": 34
        }
      },
      "source": [
        "cd /content/drive/My Drive/NLP/smsspamcollection"
      ],
      "execution_count": 0,
      "outputs": [
        {
          "output_type": "stream",
          "text": [
            "/content/drive/My Drive/NLP/smsspamcollection\n"
          ],
          "name": "stdout"
        }
      ]
    },
    {
      "cell_type": "code",
      "metadata": {
        "id": "lnDYj5VBpHdK",
        "colab_type": "code",
        "colab": {}
      },
      "source": [
        "import pandas as pd\n",
        "import re\n",
        "import nltk\n",
        "nltk.download('stopwords')\n",
        "from nltk.corpus import stopwords\n",
        "from nltk.stem.porter import PorterStemmer\n",
        "from sklearn.feature_extraction.text import CountVectorizer\n",
        "from sklearn.model_selection import train_test_split\n",
        "from sklearn.naive_bayes import MultinomialNB\n",
        "from sklearn.metrics import confusion_matrix\n",
        "from sklearn.metrics import accuracy_score"
      ],
      "execution_count": 0,
      "outputs": []
    },
    {
      "cell_type": "code",
      "metadata": {
        "id": "QBT21I7socYL",
        "colab_type": "code",
        "colab": {}
      },
      "source": [
        "def getMessages():\n",
        "  messages = pd.read_csv('SMSSpamCollection', sep='\\t', names=[\"label\", \"message\"])\n",
        "  return messages"
      ],
      "execution_count": 0,
      "outputs": []
    },
    {
      "cell_type": "code",
      "metadata": {
        "id": "ehENhRPqpEje",
        "colab_type": "code",
        "colab": {}
      },
      "source": [
        "def populateCorpus():\n",
        "  ps = PorterStemmer()\n",
        "  corpus = []\n",
        "  for i in range(0, len(messages)):\n",
        "    review = re.sub('[^a-zA-Z]', ' ', messages['message'][i])\n",
        "    review = review.lower()\n",
        "    review = review.split()\n",
        "    \n",
        "    review = [ps.stem(word) for word in review if not word in stopwords.words('english')]\n",
        "    review = ' '.join(review)\n",
        "    corpus.append(review)\n",
        "  return corpus"
      ],
      "execution_count": 0,
      "outputs": []
    },
    {
      "cell_type": "code",
      "metadata": {
        "id": "28Oro_Slp8Oa",
        "colab_type": "code",
        "colab": {}
      },
      "source": [
        "def populateBagOfWords(corpus):\n",
        "  cv = CountVectorizer(max_features=2500)\n",
        "  X = cv.fit_transform(corpus).toarray()\n",
        "\n",
        "  y=pd.get_dummies(messages['label'])\n",
        "  y=y.iloc[:,1].values\n",
        "  return X, y"
      ],
      "execution_count": 0,
      "outputs": []
    },
    {
      "cell_type": "code",
      "metadata": {
        "id": "SHhcDEK8qYxT",
        "colab_type": "code",
        "colab": {}
      },
      "source": [
        "def extractTrainAndTestData(X, y):\n",
        "  X_train, X_test, y_train, y_test = train_test_split(X, y, test_size = 0.20, random_state = 0)\n",
        "  return X_train, X_test, y_train, y_test"
      ],
      "execution_count": 0,
      "outputs": []
    },
    {
      "cell_type": "code",
      "metadata": {
        "id": "km_fXvwOqo91",
        "colab_type": "code",
        "colab": {}
      },
      "source": [
        "def implementNaiveBayesModel(X_train, y_train, X_test):\n",
        "  spam_detect_model = MultinomialNB().fit(X_train, y_train)\n",
        "  y_pred = spam_detect_model.predict(X_test)\n",
        "  return y_pred"
      ],
      "execution_count": 0,
      "outputs": []
    },
    {
      "cell_type": "code",
      "metadata": {
        "id": "EeYusBOhq9-a",
        "colab_type": "code",
        "colab": {}
      },
      "source": [
        "def calculateConfusionMatrix(y_test, y_pred):\n",
        "  confusion_m = confusion_matrix(y_test, y_pred)\n",
        "  return confusion_m"
      ],
      "execution_count": 0,
      "outputs": []
    },
    {
      "cell_type": "code",
      "metadata": {
        "id": "zm8KO19Zrm9M",
        "colab_type": "code",
        "colab": {}
      },
      "source": [
        "def calculateAccuracy(y_test, y_pred):\n",
        "  accuracy = accuracy_score(y_test, y_pred)\n",
        "  return accuracy"
      ],
      "execution_count": 0,
      "outputs": []
    },
    {
      "cell_type": "code",
      "metadata": {
        "id": "cyPpkbA3sd0T",
        "colab_type": "code",
        "colab": {}
      },
      "source": [
        "def process():\n",
        "  messages = getMessages()\n",
        "  corpus = populateCorpus()\n",
        "  X, y = populateBagOfWords(corpus)\n",
        "  X_train, X_test, y_train, y_test = extractTrainAndTestData(X, y)\n",
        "  y_pred = implementNaiveBayesModel(X_train, y_train, X_test)\n",
        "  confusion_m = calculateConfusionMatrix(y_test, y_pred)\n",
        "  accuracy = calculateAccuracy(y_test, y_pred)\n",
        "  return confusion_m, accuracy"
      ],
      "execution_count": 0,
      "outputs": []
    },
    {
      "cell_type": "code",
      "metadata": {
        "id": "CFoWd9bAstZZ",
        "colab_type": "code",
        "colab": {}
      },
      "source": [
        "def main():\n",
        "  confusion_m, accuracy = process()\n",
        "  print('Confusion Matrix is : ')\n",
        "  print(confusion_m)\n",
        "  print('Accuracy is : ')\n",
        "  print(accuracy)\n",
        "  return"
      ],
      "execution_count": 0,
      "outputs": []
    },
    {
      "cell_type": "code",
      "metadata": {
        "id": "v8uWpsFtsiRF",
        "colab_type": "code",
        "outputId": "2a3851d5-7c90-4f44-b217-319537d94049",
        "colab": {
          "base_uri": "https://localhost:8080/",
          "height": 102
        }
      },
      "source": [
        "if __name__ == \"__main__\":\n",
        "    main()"
      ],
      "execution_count": 0,
      "outputs": [
        {
          "output_type": "stream",
          "text": [
            "Confusion Matrix is : \n",
            "[[946   9]\n",
            " [  7 153]]\n",
            "Accuracy is : \n",
            "0.9856502242152466\n"
          ],
          "name": "stdout"
        }
      ]
    },
    {
      "cell_type": "code",
      "metadata": {
        "id": "VrYJB8hEsrz8",
        "colab_type": "code",
        "colab": {}
      },
      "source": [
        ""
      ],
      "execution_count": 0,
      "outputs": []
    }
  ]
}