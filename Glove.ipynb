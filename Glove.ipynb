{
  "nbformat": 4,
  "nbformat_minor": 0,
  "metadata": {
    "colab": {
      "name": "Glove.ipynb",
      "provenance": [],
      "collapsed_sections": []
    },
    "kernelspec": {
      "name": "python3",
      "display_name": "Python 3"
    }
  },
  "cells": [
    {
      "cell_type": "code",
      "metadata": {
        "id": "TrTGyUNsgBwl",
        "colab_type": "code",
        "colab": {}
      },
      "source": [
        "pip install glove_python"
      ],
      "execution_count": 0,
      "outputs": []
    },
    {
      "cell_type": "code",
      "metadata": {
        "id": "B-2MrdCMg75t",
        "colab_type": "code",
        "colab": {}
      },
      "source": [
        "import nltk\n",
        "nltk.download('all')\n",
        "from nltk.stem import PorterStemmer\n",
        "from nltk.corpus import stopwords\n",
        "from nltk.stem import WordNetLemmatizer\n",
        "from glove import Corpus, Glove"
      ],
      "execution_count": 0,
      "outputs": []
    },
    {
      "cell_type": "code",
      "metadata": {
        "id": "h3cbmLaLkD2k",
        "colab_type": "code",
        "colab": {}
      },
      "source": [
        "def fetchWords():\n",
        "  lines = [['Hello', 'this', 'tutorial', 'on', 'how', 'convert' ,'word', 'integer','format'],['this' ,'beautiful', 'day'],['Jack','going' , 'office']]\n",
        "  return lines"
      ],
      "execution_count": 0,
      "outputs": []
    },
    {
      "cell_type": "code",
      "metadata": {
        "id": "pAfwZei9kzBC",
        "colab_type": "code",
        "colab": {}
      },
      "source": [
        "def buildGlove(lines):\n",
        "  corpus = Corpus()\n",
        "  corpus.fit(lines, window=10)\n",
        "  glove = Glove(no_components=5, learning_rate=0.05)\n",
        "\n",
        "  glove.fit(corpus.matrix, epochs=30, no_threads=4, verbose=True)\n",
        "  glove.add_dictionary(corpus.dictionary)\n",
        "  glove.save('glove.model')\n",
        "\n",
        "  return glove"
      ],
      "execution_count": 0,
      "outputs": []
    },
    {
      "cell_type": "code",
      "metadata": {
        "id": "mkacZUgynyUp",
        "colab_type": "code",
        "colab": {}
      },
      "source": [
        "def findVectorOfWord(glove, word):\n",
        "  print(glove.word_vectors[glove.dictionary[word]])"
      ],
      "execution_count": 0,
      "outputs": []
    },
    {
      "cell_type": "code",
      "metadata": {
        "id": "sqonlvopoCEl",
        "colab_type": "code",
        "colab": {}
      },
      "source": [
        "def process():\n",
        "  lines = fetchWords()\n",
        "  glove = buildGlove(lines)\n",
        "  findVectorOfWord(glove, 'integer')\n",
        "  return"
      ],
      "execution_count": 0,
      "outputs": []
    },
    {
      "cell_type": "code",
      "metadata": {
        "id": "QjlMi0D0oWVm",
        "colab_type": "code",
        "colab": {}
      },
      "source": [
        "def main():\n",
        "  # process()\n",
        "  return"
      ],
      "execution_count": 0,
      "outputs": []
    },
    {
      "cell_type": "code",
      "metadata": {
        "id": "wF7E6RDfoLda",
        "colab_type": "code",
        "colab": {}
      },
      "source": [
        "if __name__==\"__main__\": \n",
        "  main()"
      ],
      "execution_count": 0,
      "outputs": []
    },
    {
      "cell_type": "code",
      "metadata": {
        "id": "eOMvMSlMoc97",
        "colab_type": "code",
        "colab": {}
      },
      "source": [
        ""
      ],
      "execution_count": 0,
      "outputs": []
    }
  ]
}